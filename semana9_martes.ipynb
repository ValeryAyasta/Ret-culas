{
  "cells": [
    {
      "cell_type": "markdown",
      "metadata": {
        "id": "view-in-github",
        "colab_type": "text"
      },
      "source": [
        "<a href=\"https://colab.research.google.com/github/ValeryAyasta/Ret-culas/blob/main/semana9_martes.ipynb\" target=\"_parent\"><img src=\"https://colab.research.google.com/assets/colab-badge.svg\" alt=\"Open In Colab\"/></a>"
      ]
    },
    {
      "cell_type": "markdown",
      "metadata": {
        "id": "blKgHUAffDTT"
      },
      "source": [
        " LECTURA DE DATOS CON ESTRUCTURA\n",
        " \n"
      ]
    },
    {
      "cell_type": "code",
      "execution_count": null,
      "metadata": {
        "colab": {
          "base_uri": "https://localhost:8080/"
        },
        "id": "Cz7ecDu1Np-3",
        "outputId": "3c95b924-ed79-4674-edc2-db4a9f90ff56"
      },
      "outputs": [
        {
          "output_type": "stream",
          "name": "stdout",
          "text": [
            "Writing programa.cpp\n"
          ]
        }
      ],
      "source": [
        "%%writefile programa.cpp\n",
        "\n",
        "#include <iostream>\n",
        "#include <string>\n",
        "#include <vector>\n",
        "\n",
        "using namespace std;\n",
        "\n",
        "struct Registro{\n",
        "\n",
        "    int c[2];//c[0]->edad, c[1]->talla\n",
        "\n",
        "    string nombre;\n",
        "};\n",
        "\n",
        "int main(){\n",
        "\n",
        "    char nombre[10];\n",
        "    Registro r;\n",
        "    vector<Registro> registros;\n",
        "\n",
        "    FILE* stream=fopen(\"ejemplo.txt\",\"r\"); //r->reading/leer  //w->writing/escribir  //rw ->lectura y escritura\n",
        "\n",
        "    int c=0;\n",
        "\n",
        "//printf ->imprimir con formato\n",
        "//fscanf->leer con formato\n",
        "//%d -> lectura de un numero\n",
        "//\"%d,\" ->lectura d eun numero hasta una coma, puedo cambiar este signo por otro\n",
        "//\"%[^,]\"->en el caso de C se usa esto para leer todos los carecteras hasta una coma, podemos cambiar este signo\n",
        "//pasamos & para asignar en la memoria del struct este valor que va  a leer\n",
        "//los string los pasamos sin &, para luego igualarlo una lina abajo (linea 40)\n",
        "//EOF: end of file ->lee todo los registros hasta que llegues al final\n",
        "\n",
        "//hasta que llego una como leo un numero decimal (%d,), sigo leyendo hasta una coma una cadena de caracteres(%[^,]), sigo leyendo otro numero hasta el final de archivo\n",
        "    while(fscanf(stream,\"%d,%[^,],%d\",&r.c[0],nombre,&r.c[1])!=EOF){\n",
        "\n",
        "        r.nombre=nombre;\n",
        "        ++c;\n",
        "        registros.push_back(r);\n",
        "    }\n",
        "\n",
        "    cout<<\"Cantidad de registros de lectura: \"<<c<<endl;\n",
        "    cout<<\"Cantidad de registros de escritura: \"<<registros.size();\n",
        "    cout<<\"Registros: \"<<registros.print();\n",
        "}\n",
        "\n"
      ]
    },
    {
      "cell_type": "code",
      "execution_count": null,
      "metadata": {
        "colab": {
          "base_uri": "https://localhost:8080/"
        },
        "id": "6MrlqxiUNubt",
        "outputId": "6a5c2e1f-9e5c-405b-b89d-22e2daad42e3"
      },
      "outputs": [
        {
          "name": "stdout",
          "output_type": "stream",
          "text": [
            "\u001b[01m\u001b[Kprograma.cpp:\u001b[m\u001b[K In function ‘\u001b[01m\u001b[Kint main()\u001b[m\u001b[K’:\n",
            "\u001b[01m\u001b[Kprograma.cpp:44:36:\u001b[m\u001b[K \u001b[01;31m\u001b[Kerror: \u001b[m\u001b[K‘\u001b[01m\u001b[Kclass std::vector<Registro>\u001b[m\u001b[K’ has no member named ‘\u001b[01m\u001b[Kprint\u001b[m\u001b[K’; did you mean ‘\u001b[01m\u001b[Kfront\u001b[m\u001b[K’?\n",
            "     cout<<\"Registros: \"<<registros.\u001b[01;31m\u001b[Kprint\u001b[m\u001b[K();\n",
            "                                    \u001b[01;31m\u001b[K^~~~~\u001b[m\u001b[K\n",
            "                                    \u001b[32m\u001b[Kfront\u001b[m\u001b[K\n"
          ]
        }
      ],
      "source": [
        "!g++ programa.cpp && ./a.out"
      ]
    },
    {
      "cell_type": "markdown",
      "metadata": {
        "id": "Zr5A4gcdfXd5"
      },
      "source": [
        "PARA EL DOCUMENTO DEL DRIVE"
      ]
    },
    {
      "cell_type": "code",
      "execution_count": null,
      "metadata": {
        "colab": {
          "base_uri": "https://localhost:8080/"
        },
        "id": "dB_DTgCBNuxb",
        "outputId": "be89d731-d823-4d65-9a05-8ddba2e9538e"
      },
      "outputs": [
        {
          "name": "stdout",
          "output_type": "stream",
          "text": [
            "Mounted at /gdrive\n"
          ]
        }
      ],
      "source": [
        "from google.colab import drive  \n",
        "\n",
        "drive.mount('/gdrive') \n",
        "\n",
        "#mount/montar es abrir un dispositivo de almacenamiento"
      ]
    },
    {
      "cell_type": "code",
      "execution_count": null,
      "metadata": {
        "id": "ItUa2A0hNy_c"
      },
      "outputs": [],
      "source": [
        "!cp /gdrive/MyDrive/Datasets/flights_.csv /content\n",
        "#ruta donde se encuentra el archivo    hacia  el destino donde quiero que vaya el archivo"
      ]
    },
    {
      "cell_type": "code",
      "execution_count": null,
      "metadata": {
        "colab": {
          "base_uri": "https://localhost:8080/"
        },
        "id": "AUxCfk1xN1a7",
        "outputId": "2cb45176-26e9-4b72-d2d7-df03ffad9c62"
      },
      "outputs": [
        {
          "name": "stdout",
          "output_type": "stream",
          "text": [
            "2015,1,1,4,\"AS\",98,\"N407AS\",\"ANC\",\"SEA\",5,2354,-11,21,15,205,194,169,1448,404,4,430,408,-22,0,0,\"\",0,0,0,0,0\r\n",
            "2015,1,1,4,\"AA\",2336,\"N3KUAA\",\"LAX\",\"PBI\",10,2,-8,12,14,280,279,263,2330,737,4,750,741,-9,0,0,\"\",0,0,0,0,0\r\n",
            "2015,1,1,4,\"US\",840,\"N171US\",\"SFO\",\"CLT\",20,18,-2,16,34,286,293,266,2296,800,11,806,811,5,0,0,\"\",0,0,0,0,0\r\n",
            "2015,1,1,4,\"AA\",258,\"N3HYAA\",\"LAX\",\"MIA\",20,15,-5,15,30,285,281,258,2342,748,8,805,756,-9,0,0,\"\",0,0,0,0,0\r\n",
            "2015,1,1,4,\"AS\",135,\"N527AS\",\"SEA\",\"ANC\",25,24,-1,11,35,235,215,199,1448,254,5,320,259,-21,0,0,\"\",0,0,0,0,0\r\n",
            "2015,1,1,4,\"DL\",806,\"N3730B\",\"SFO\",\"MSP\",25,20,-5,18,38,217,230,206,1589,604,6,602,610,8,0,0,\"\",0,0,0,0,0\r\n",
            "2015,1,1,4,\"NK\",612,\"N635NK\",\"LAS\",\"MSP\",25,19,-6,11,30,181,170,154,1299,504,5,526,509,-17,0,0,\"\",0,0,0,0,0\r\n",
            "2015,1,1,4,\"US\",2013,\"N584UW\",\"LAX\",\"CLT\",30,44,14,13,57,273,249,228,2125,745,8,803,753,-10,0,0,\"\",0,0,0,0,0\r\n",
            "2015,1,1,4,\"AA\",1112,\"N3LAAA\",\"SFO\",\"DFW\",30,19,-11,17,36,195,193,173,1464,529,3,545,532,-13,0,0,\"\",0,0,0,0,0\r\n",
            "2015,1,1,4,\"DL\",1173,\"N826DN\",\"LAS\",\"ATL\",30,33,3,12,45,221,203,186,1747,651,5,711,656,-15,0,0,\"\",0,0,0,0,0\r\n"
          ]
        }
      ],
      "source": [
        "!#mostrar las primeras filas\n",
        "!head flights_.csv"
      ]
    },
    {
      "cell_type": "markdown",
      "metadata": {
        "id": "TAMvY7q7fj0s"
      },
      "source": [
        "LECTURA DE DATOS MASIVOS"
      ]
    },
    {
      "cell_type": "code",
      "execution_count": null,
      "metadata": {
        "colab": {
          "base_uri": "https://localhost:8080/"
        },
        "id": "bWH_p77KN4Nj",
        "outputId": "a235f487-599b-4ccf-8462-19a987c88480"
      },
      "outputs": [
        {
          "name": "stdout",
          "output_type": "stream",
          "text": [
            "Overwriting programa1.cpp\n"
          ]
        }
      ],
      "source": [
        "%%writefile programa1.cpp\n",
        "#include <iostream>\n",
        "#include <string>\n",
        "#include <vector>\n",
        "using namespace std;\n",
        "\n",
        "struct Registro{    \n",
        "    \n",
        "    int c[26];\n",
        "    string airline, tailNumber, origAirport, destAirport, cancReason;\t    \n",
        "};\n",
        "\n",
        "int main(){\n",
        "    \n",
        "    unsigned t1, t2;\n",
        "\n",
        "    Registro r;\n",
        "    vector<Registro> registros;     \n",
        "    char airline[10], tailNumber[10], origAirport[10], destAirport[10],cancReason[10];\t\n",
        "\n",
        "    t1=clock();\n",
        "    FILE* archivo=fopen(\"flights_.csv\",\"r\");\n",
        "    long c=0;\n",
        "\n",
        "    while(fscanf(archivo,\"%d,%d,%d,%d,%[^,],%d,%[^,],%[^,],%[^,],%d,%d,%d,%d,%d,%d,%d,%d,%d,%d,%d,%d,%d,%d,%d,%d,%[^,],%d,%d,%d,%d,%d\",\n",
        "                 &r.c[0],&r.c[1],&r.c[2],&r.c[3],airline,&r.c[4],\n",
        "                 tailNumber, origAirport, destAirport,&r.c[5],&r.c[6],\n",
        "                 &r.c[7],&r.c[8],&r.c[9],&r.c[10],&r.c[11],&r.c[12],&r.c[13],\n",
        "                 &r.c[14],&r.c[15],&r.c[16],&r.c[17],&r.c[18],&r.c[19],&r.c[20],\n",
        "                 cancReason,&r.c[21],&r.c[22],&r.c[23],&r.c[24],&r.c[25])!=EOF){\n",
        "        ++c;\n",
        "\n",
        "      registros.push_back(r);\n",
        "      r.airline=airline;\n",
        "      r.tailNumber=tailNumber;\n",
        "      r.origAirport=origAirport;\n",
        "      r.destAirport=destAirport;\n",
        "      r.cancReason=cancReason;\n",
        "    }\n",
        "\n",
        "    fclose(archivo);\n",
        "    t2=clock();\n",
        "\n",
        "    double tiempo= (double(t2-t1)/CLOCKS_PER_SEC);\n",
        "    \n",
        "    cout<<\"Lectura de filas \"<<c<<endl;\n",
        "    cout<<\"Escritura de filas \"<<registros.size()<<endl;\n",
        "    cout<<\"El tiempo de ejecución es:\"<<tiempo<<endl;\n",
        "\n",
        "}"
      ]
    },
    {
      "cell_type": "code",
      "execution_count": null,
      "metadata": {
        "colab": {
          "base_uri": "https://localhost:8080/"
        },
        "id": "pLUCnVN-N6PO",
        "outputId": "a646b083-7c03-4225-e35e-6ee7968ee15c"
      },
      "outputs": [
        {
          "name": "stdout",
          "output_type": "stream",
          "text": [
            "tcmalloc: large alloc 1107296256 bytes == 0x55a11c3a8000 @  0x7f64812b7887 0x55a0d7eaf314 0x55a0d7eaf1bd 0x55a0d7eaf018 0x55a0d7eae968 0x55a0d7eae74b 0x55a0d7eae2fa 0x7f6480911c87 0x55a0d7eae00a\n",
            "tcmalloc: large alloc 2214592512 bytes == 0x55a15e3a8000 @  0x7f64812b7887 0x55a0d7eaf314 0x55a0d7eaf1bd 0x55a0d7eaf018 0x55a0d7eae968 0x55a0d7eae74b 0x55a0d7eae2fa 0x7f6480911c87 0x55a0d7eae00a\n",
            "Lectura de filas 5714008\n",
            "Escritura de filas 5714008\n",
            "El tiempo de ejecución es:16.7142\n"
          ]
        }
      ],
      "source": [
        "!g++ programa1.cpp && ./a.out"
      ]
    },
    {
      "cell_type": "markdown",
      "metadata": {
        "id": "yJ_H5V7-hVRL"
      },
      "source": [
        "Lo que intente hacer con ordenamiento quicksort"
      ]
    },
    {
      "cell_type": "code",
      "execution_count": null,
      "metadata": {
        "colab": {
          "base_uri": "https://localhost:8080/"
        },
        "id": "6G1qgCoxhKuy",
        "outputId": "30e50b35-330d-4694-becb-6c28924588e1"
      },
      "outputs": [
        {
          "name": "stdout",
          "output_type": "stream",
          "text": [
            "Overwriting asignacion2.cpp\n"
          ]
        }
      ],
      "source": [
        "#include <stdio.h>\n",
        "#include <cstdlib>//srand\n",
        "#include <ctime>//time\n",
        "#include <cstdio>//printf\n",
        "#include <iostream>\n",
        "#include <string>\n",
        "\n",
        "%%writefile asignacion2.cpp\n",
        "\n",
        "#include <iostream>\n",
        "#include <string>\n",
        "#include <vector>\n",
        "#include <functional>\n",
        "\n",
        "using namespace std;\n",
        "\n",
        "template <class G>\n",
        "\n",
        "class Vector {\n",
        "    \n",
        "private:\n",
        "\tG* arr;  \n",
        "\tlong id;\n",
        "\tunsigned long size;\n",
        "\n",
        "public:\n",
        "\n",
        "\tVector(unsigned long size=5714008):size(size),id(-1) { //el tamano lo cambie\n",
        "\t\tarr = new G[size];\t\n",
        "\t}\n",
        "\n",
        "  void push_back(G valor) {\n",
        "\n",
        "\t\t//se aumenta un elemento\n",
        "\t\tG* aux = new G[size + 1];\n",
        "\n",
        "\t\tfor (int i = 0; i < size; i++) {\n",
        "\n",
        "\t\t\t//recoje todos las posiciones menos el ultimo\n",
        "\t\t\taux[i] = arr[i];\n",
        "\t\t}\n",
        "\n",
        "\t\t//asigna a la ultima posicion el valor que se quiere\n",
        "\t\taux[size] = valor;\n",
        "\n",
        "\t\tdelete[] arr;\n",
        "\t\tarr = aux;\n",
        "\n",
        "\t\taux = nullptr;\n",
        "\t\tdelete aux;\n",
        "\n",
        "\t\tsize++;\n",
        "\t}\n",
        "\n",
        "\n",
        "  int quickSort(int l, int u,function<bool(G,G)> func) {\n",
        "    \n",
        "\tint pivot = arr[l]; //el pivote\n",
        "  int i=l+1, j=u,temp;\n",
        "\n",
        "  if(l<u){ \n",
        "      \n",
        "      while(i<=j){\n",
        "          \n",
        "           while(arr[i]<=pivot){ i++;} //avanza por la izquierda\n",
        "           while(arr[j]>pivot){  j--;} //disminuye por la derecha\n",
        "\n",
        "            if(func(arr[i],arr[j])){ //i<j\n",
        "                \n",
        "                //como si fuera el swap(&arr[i],&arr[j]);\n",
        "                temp=arr[i];\n",
        "                arr[i]=arr[j];\n",
        "                arr[j]=temp;\n",
        "            }\n",
        "      }\n",
        "\n",
        "      temp=arr[j];\n",
        "      arr[j]=arr[l];\n",
        "      arr[l]=temp;\n",
        "\n",
        "      //las recursivas\n",
        "      quickSort(l, j-1,func1(arr[l-1],arr[u-1]),func2(arr[i-1],arr[j-1]),func3(arr[i-1],arr[j-1])); //recursiva por la izquierda\n",
        "      quickSort(j+1, u,func1(arr[l+1],arr[u+1]),func2(arr[i+1],arr[j+1]),func3(arr[i+1],arr[j+1])); //recursiva por la derecha\n",
        "  }\n",
        "}\n",
        "\n",
        "\t\n",
        "};\n",
        "\n",
        "\n",
        "struct Registro{\n",
        "\n",
        "    int c[26];\n",
        "\n",
        "    string airline,tailnumber,origaiport,destairport,cancreason;\n",
        "    string nombre;\n",
        "\n",
        "};\n",
        "\n",
        "int main() {\n",
        "\n",
        "    char airline[10],tailnumber[10],origaiport[10],destairport[10],cancreason[10];\n",
        "    Registro r;\n",
        "\n",
        "    Vector<Registro*>* registros =new Vector<Registro*>; //inicializado\n",
        "\n",
        "    FILE* stream=fopen(\"flights_.csv\",\"r\");\n",
        "    int c=0;\n",
        "\n",
        "    unsigned t0,t1;\n",
        "    t0=clock();\n",
        "\n",
        "    while(fscanf(stream,\"%d,%d,%d,%d,%[^,],%d,%[^,],%[^,],%[^,],%d,%d,%d,%d,%d,%d,%d,%d,%d,%d,%d,%d,%d,%d,%d,%d,%[^,],%d,%d,%d,%d,%d\",\n",
        "                &r.c[0], &r.c[1], &r.c[2], &r.c[3],airline, &r.c[4],\n",
        "                tailnumber,origaiport,destairport,&r.c[5],&r.c[6],\n",
        "                 &r.c[7],&r.c[8],&r.c[9],&r.c[10],&r.c[11],&r.c[12],&r.c[13],\n",
        "                 &r.c[14],&r.c[15],&r.c[16],&r.c[17],&r.c[18],&r.c[19],&r.c[20],\n",
        "                 cancreason,&r.c[21],&r.c[22],&r.c[23],&r.c[24],&r.c[25])!=EOF){\n",
        "\n",
        "        r.airline=airline;\n",
        "        ++c;\n",
        "        registros.push_back(stream);\n",
        "    }\n",
        "\n",
        "    t1=clock();\n",
        "\n",
        "    double tiempo=(double(t1-t0)/CLOCKS_PER_SEC);\n",
        "\n",
        "    cout<<\"Cantidad de registros de lectura: \"<<c<<endl;\n",
        "    cout<<\"Tiempo utilizado es : \"<<tiempo<<endl;\n",
        "    cout<<\"Cantidad de registros de escritura: \"<<registros.size();\n",
        "\n",
        "\t\n",
        "\tregistros->quickSort( 0, 5714008 - 1,[](Registro v1, Registro v2) {return v1.c[0] < v2.c[0];});\n",
        "\n",
        "\tcout << \"Arreglo ordenado por quickSort\" << endl;\n",
        "\n",
        "  for(int i=0;i<5714008;i++){\n",
        "    \n",
        "    printf(registros[i]);\n",
        "    cout<<endl;\n",
        "  }\n",
        "\n",
        "//\tprint_array(registros,5714008)\n",
        "\n",
        "\tcin.ignore();\n",
        "\tcin.get();\n",
        "\n",
        "\treturn 0;\n",
        "}\n",
        "\n"
      ]
    },
    {
      "cell_type": "markdown",
      "metadata": {
        "id": "T2BcQB8AhwyA"
      },
      "source": [
        "VERSION 2 CON POO-CON EL PROFESOR"
      ]
    },
    {
      "cell_type": "code",
      "execution_count": null,
      "metadata": {
        "colab": {
          "base_uri": "https://localhost:8080/"
        },
        "id": "yDdJxt-b1L8l",
        "outputId": "5f5ab1b1-5a0b-4b56-b1c9-d9f4c3be6a9d"
      },
      "outputs": [
        {
          "name": "stdout",
          "output_type": "stream",
          "text": [
            "Writing programa2.cpp\n"
          ]
        }
      ],
      "source": [
        "%%writefile programa2.cpp\n",
        "#include <iostream>\n",
        "#include <string>\n",
        "#include <vector>\n",
        "using namespace std;\n",
        "\n",
        "class Registro{  \n",
        "          \n",
        "    int c[26];\n",
        "    string airline, tailNumber, origAirport, destAirport, cancReason;\t    \n",
        "    friend class Vuelos;   \n",
        "\n",
        "    public:\n",
        "\n",
        "    Registro(){}\n",
        "    ~Registro(){}\n",
        "\n",
        "    \n",
        "    string toString(){\n",
        "        \n",
        "      string _string;\n",
        "\n",
        "      for(size_t i=0;i<26;++i){\n",
        "\n",
        "         _string+=to_string(c[i])+\" \";\n",
        "\n",
        "      }\n",
        "      \n",
        "      _string+=airline+\" \"+tailNumber+\" \"+origAirport+\" \"+destAirport+\" \"+cancReason;\n",
        "        \n",
        "      return _string;\n",
        "    }\n",
        "};  \n",
        "\n",
        "\n",
        "class Vuelos{\n",
        "    \n",
        "    vector<Registro> registros;\n",
        "    \n",
        "    public:\n",
        "\n",
        "    Vuelos(){}\n",
        "    ~Vuelos(){}\n",
        "\n",
        "    void insertar(){\n",
        "        \n",
        "    unsigned t1, t2;\n",
        "    Registro r;\n",
        "    \n",
        "    char airline[10], tailNumber[10], origAirport[10], destAirport[10],cancReason[10];\t\n",
        "    t1=clock();\n",
        "    \n",
        "    FILE* archivo=fopen(\"flights_.csv\",\"r\");\n",
        "    long c=0;\n",
        "\n",
        "    while(fscanf(archivo,\"%d,%d,%d,%d,%[^,],%d,%[^,],%[^,],%[^,],%d,%d,%d,%d,%d,%d,%d,%d,%d,%d,%d,%d,%d,%d,%d,%d,%[^,],%d,%d,%d,%d,%d\",\n",
        "                 &r.c[0],&r.c[1],&r.c[2],&r.c[3],airline,&r.c[4],\n",
        "                 tailNumber, origAirport, destAirport,&r.c[5],&r.c[6],\n",
        "                 &r.c[7],&r.c[8],&r.c[9],&r.c[10],&r.c[11],&r.c[12],&r.c[13],\n",
        "                 &r.c[14],&r.c[15],&r.c[16],&r.c[17],&r.c[18],&r.c[19],&r.c[20],\n",
        "                 cancReason,&r.c[21],&r.c[22],&r.c[23],&r.c[24],&r.c[25])!=EOF){\n",
        "        ++c;\n",
        "\n",
        "      registros.push_back(r);\n",
        "      r.airline=airline;\n",
        "      r.tailNumber=tailNumber;\n",
        "      r.origAirport=origAirport;\n",
        "      r.destAirport=destAirport;\n",
        "      r.cancReason=cancReason;\n",
        "    }\n",
        "\n",
        "    fclose(archivo);\n",
        "    t2=clock();\n",
        "    double tiempo= (double(t2-t1)/CLOCKS_PER_SEC);\n",
        "    cout<<\"Lectura de filas \"<<c<<endl;\n",
        "    cout<<\"Escritura de filas \"<<registros.size()<<endl;\n",
        "    cout<<\"El tiempo de ejecución es:\"<<tiempo<<endl;\n",
        "  }  \n",
        "\n",
        "  string imprimir(long i){\n",
        "      \n",
        "    return registros[i].toString();\n",
        "  }\n",
        "\n",
        "};\n",
        "\n",
        "int main(){\n",
        "    \n",
        "  Vuelos v;\n",
        "  v.insertar();  \n",
        "\n",
        "  for(size_t i=0;i<10;++i){\n",
        "      \n",
        "      cout<<v.imprimir(i)<<endl;\n",
        "  }\n",
        "}\n",
        "\n",
        "\n",
        "\n",
        "\n"
      ]
    },
    {
      "cell_type": "code",
      "execution_count": null,
      "metadata": {
        "colab": {
          "base_uri": "https://localhost:8080/"
        },
        "id": "sICdGKQhihjY",
        "outputId": "e7081381-8fc7-43e9-ae26-abc68101a70b"
      },
      "outputs": [
        {
          "name": "stdout",
          "output_type": "stream",
          "text": [
            "tcmalloc: large alloc 1107296256 bytes == 0x55fd375e8000 @  0x7f8c65425887 0x55fcf2c5b764 0x55fcf2c5b50f 0x55fcf2c5b30e 0x55fcf2c5ac02 0x55fcf2c5a935 0x55fcf2c5a326 0x55fcf2c59afa 0x7f8c64a7fc87 0x55fcf2c599ea\n",
            "tcmalloc: large alloc 2214592512 bytes == 0x55fd795e8000 @  0x7f8c65425887 0x55fcf2c5b764 0x55fcf2c5b50f 0x55fcf2c5b30e 0x55fcf2c5ac02 0x55fcf2c5a935 0x55fcf2c5a326 0x55fcf2c59afa 0x7f8c64a7fc87 0x55fcf2c599ea\n",
            "Lectura de filas 5714008\n",
            "Escritura de filas 5714008\n",
            "El tiempo de ejecución es:16.2144\n",
            "2015 1 1 4 98 5 2354 -11 21 15 205 194 169 1448 404 4 430 408 -22 0 0 0 0 0 0 0     \n",
            "2015 1 1 4 2336 10 2 -8 12 14 280 279 263 2330 737 4 750 741 -9 0 0 0 0 0 0 0 \"AS\" \"N407AS\" \"ANC\" \"SEA\" \"\"\n",
            "2015 1 1 4 840 20 18 -2 16 34 286 293 266 2296 800 11 806 811 5 0 0 0 0 0 0 0 \"AA\" \"N3KUAA\" \"LAX\" \"PBI\" \"\"\n",
            "2015 1 1 4 258 20 15 -5 15 30 285 281 258 2342 748 8 805 756 -9 0 0 0 0 0 0 0 \"US\" \"N171US\" \"SFO\" \"CLT\" \"\"\n",
            "2015 1 1 4 135 25 24 -1 11 35 235 215 199 1448 254 5 320 259 -21 0 0 0 0 0 0 0 \"AA\" \"N3HYAA\" \"LAX\" \"MIA\" \"\"\n",
            "2015 1 1 4 806 25 20 -5 18 38 217 230 206 1589 604 6 602 610 8 0 0 0 0 0 0 0 \"AS\" \"N527AS\" \"SEA\" \"ANC\" \"\"\n",
            "2015 1 1 4 612 25 19 -6 11 30 181 170 154 1299 504 5 526 509 -17 0 0 0 0 0 0 0 \"DL\" \"N3730B\" \"SFO\" \"MSP\" \"\"\n",
            "2015 1 1 4 2013 30 44 14 13 57 273 249 228 2125 745 8 803 753 -10 0 0 0 0 0 0 0 \"NK\" \"N635NK\" \"LAS\" \"MSP\" \"\"\n",
            "2015 1 1 4 1112 30 19 -11 17 36 195 193 173 1464 529 3 545 532 -13 0 0 0 0 0 0 0 \"US\" \"N584UW\" \"LAX\" \"CLT\" \"\"\n",
            "2015 1 1 4 1173 30 33 3 12 45 221 203 186 1747 651 5 711 656 -15 0 0 0 0 0 0 0 \"AA\" \"N3LAAA\" \"SFO\" \"DFW\" \"\"\n"
          ]
        }
      ],
      "source": [
        "!g++ programa2.cpp && ./a.out"
      ]
    },
    {
      "cell_type": "markdown",
      "metadata": {
        "id": "3-c3fFDJn6wJ"
      },
      "source": [
        "VERSION 3- PROPIO VECTOR- CON EL PROFE"
      ]
    },
    {
      "cell_type": "code",
      "execution_count": null,
      "metadata": {
        "colab": {
          "base_uri": "https://localhost:8080/"
        },
        "id": "KdIm-xP8M_su",
        "outputId": "71b6141e-8561-4f4c-83b3-4b6174d750ab"
      },
      "outputs": [
        {
          "name": "stdout",
          "output_type": "stream",
          "text": [
            "Overwriting mivector.hpp\n"
          ]
        }
      ],
      "source": [
        "%%writefile mivector.hpp\n",
        "\n",
        "#ifndef __MIVECTOR_H__\n",
        "#define __MIVECTOR_H__\n",
        "#include <functional>\n",
        "\n",
        "using std::function;\n",
        "using std::cout;\n",
        "\n",
        "template <typename T>\n",
        "\n",
        "class MiVector {\n",
        "\n",
        "    T* elems;\n",
        "    int cap;\n",
        "    int numElems;\n",
        "\n",
        "public:\n",
        "\n",
        "    class iterator {\n",
        "        \n",
        "        int i;\n",
        "        T* elems;\n",
        "\n",
        "    public:\n",
        "\n",
        "        iterator(int i=0, T* elems=nullptr)\n",
        "\n",
        "            : i(i), elems(elems) {}\n",
        "\n",
        "        void operator ++ () {\n",
        "\n",
        "            i++;\n",
        "        }\n",
        "\n",
        "        T operator * () {\n",
        "\n",
        "            return elems[i];\n",
        "        }\n",
        "\n",
        "        bool operator != (iterator b) {\n",
        "\n",
        "            return this->i != b.i;\n",
        "        }\n",
        "    };\n",
        "\n",
        "\n",
        "    iterator begin() {\n",
        "\n",
        "        return iterator(0, elems);\n",
        "    }\n",
        "\n",
        "    iterator end() {\n",
        "\n",
        "        return iterator(numElems, nullptr);\n",
        "    }\n",
        "\n",
        "\n",
        "    MiVector(int cap=5800000): elems(new T[cap]), cap(cap), numElems(0) {}\n",
        "\n",
        "    ~MiVector() {\n",
        "\n",
        "        delete[] elems;\n",
        "    }\n",
        "\n",
        "    void push_back(T e){\n",
        "\n",
        "        elems[numElems++]=e;\n",
        "    }\n",
        "\n",
        "    long size(){return numElems; }\n",
        "\n",
        "    T operator[] (int i) const {\n",
        "\n",
        "        return elems[i];\n",
        "    }\n",
        "\n",
        "    T& operator[] (int i) {\n",
        "\n",
        "        return elems[i];\n",
        "    }\n",
        "\n",
        "\n",
        "\n",
        "    void Merge(T *A1, T *A2, T *A, size_t n, function<bool(T,T)> func) {\n",
        "\n",
        "      size_t i = 0, j = 0, k = 0;\n",
        "\n",
        "      size_t mitad = n / 2;\n",
        "\n",
        "      while (i < mitad && j < n - mitad) {\n",
        "\n",
        "        if (func(A1[i],A2[j])) {\n",
        "\n",
        "          A[k] = A1[i];\n",
        "\n",
        "          i++;k++;\n",
        "        }\n",
        "\n",
        "        else {\n",
        "\n",
        "          A[k] = A2[j];\n",
        "\n",
        "          j++;k++;\n",
        "\n",
        "        }\n",
        "      }\n",
        "\n",
        "    while (i < mitad) {\n",
        "\n",
        "      A[k] = A1[i];\n",
        "      i++;k++;\n",
        "    }\n",
        "\n",
        "    while (j < n - mitad) {\n",
        "\n",
        "      A[k] = A2[j];\n",
        "      j++;k++;\n",
        "    }\n",
        "  }\n",
        "\n",
        "\n",
        "void mergeSort(T *A, size_t n,function<bool(T,T)> func) {\n",
        "\n",
        "  if (n > 1) {\n",
        "\n",
        "    size_t mitad = n / 2;\n",
        "    T *A1 = new T[mitad];\n",
        "    T *A2 = new T[n-mitad];\n",
        "\n",
        "    for (int i = 0;i < mitad;i++) {\n",
        "\n",
        "      A1[i] = A[i];\n",
        "    }\n",
        "\n",
        "    for (int i = mitad;i < n;i++) {\n",
        "\n",
        "      A2[i-mitad] = A[i];\n",
        "    }\n",
        "\n",
        "    mergeSort(A1, mitad,func);\n",
        "    mergeSort(A2, n - mitad,func);\n",
        "    Merge(A1, A2, A, n, func);\n",
        "  }\n",
        "}\n",
        "\n",
        "  void mergesort(function<bool(T,T)> func){\n",
        "\n",
        "      mergeSort(elems,numElems, func);\n",
        "\n",
        "  }\n",
        "///////////////////////////////////////////////\n",
        "void swap(size_t a,size_t b){\n",
        "    \n",
        "    \tT temp = elems[a];\n",
        "\t\t\telems[a] = elems[b];\n",
        "\t\t\telems[b] = temp;\n",
        "}\n",
        "\n",
        "/*\n",
        "int particion(int p, int r,function<int(int)> func) { //[](Registro a){return a.c[0];}\n",
        "\n",
        "  \n",
        "\tint x = func(r); //el pivote\n",
        "\tint i = p - 1; //indice de los menores\n",
        "\tint temp;\n",
        "\n",
        "\tfor (int j = p; j < r; j++) {\n",
        "      \n",
        "\t\tif (func(j) <= x) {\n",
        "\n",
        "\t\t\ti++;\n",
        "\t\t\tswap(i,j);\n",
        "\t\t}\n",
        "\t}\n",
        "\n",
        "\tswap(i+1,r);\n",
        "\n",
        "\treturn i + 1;\n",
        "}\n",
        "\n",
        "void quicksort(int p, int r,function<int(int)> func) {\n",
        "    \n",
        "\tint q; //para almacenar el indice del pivote\n",
        "\n",
        "\tif (p < r) {\n",
        "\t\tq = particion(p, r,func); //devuelve el indice del pivote\n",
        "\t\tquicksort(p, q - 1,func);\n",
        "\t\tquicksort(q + 1, r,func);\n",
        "\t}\n",
        "}*/\n",
        "\n",
        "///////////////////////////////////////////////\n",
        " void quickSort(size_t l,int num,function<int(int)> func) {\n",
        "    \n",
        "  size_t pivot=func(l);\n",
        "\n",
        "  size_t i=l+1; \n",
        "  size_t j=num;\n",
        "\n",
        "  if(l<num){ \n",
        "      \n",
        "      while(i<=j){\n",
        "          \n",
        "           while(func(i)<=pivot){ i++;} //avanza por la izquierda\n",
        "           while(func(j)>pivot){  j--;} //disminuye por la derecha\n",
        "\n",
        "            if(func(i)<func(j)){ //i<j\n",
        "                \n",
        "                swap(i,j);\n",
        "            }\n",
        "      }\n",
        "\n",
        "      swap(j,l);\n",
        "\n",
        "      //las recursivas\n",
        "      quickSort(l, j-1,func); //recursiva por la izquierda\n",
        "      quickSort(j+1, num,func); //recursiva por la derecha\n",
        "  }\n",
        "}\n",
        "\n",
        "/*\n",
        "void quic_ksort(function<int(int)> func){\n",
        "    \n",
        "quicksort(0,10,func);\n",
        "\n",
        "}*/\n",
        "\n",
        "void quic_ksort2(function<int(int)> func){\n",
        "    \n",
        "  //inicia tamaño lambad\n",
        "quickSort(0,10,func);\n",
        "\n",
        "}\n",
        "\n",
        "\n",
        "};\n",
        "\n",
        "#endif"
      ]
    },
    {
      "cell_type": "code",
      "execution_count": null,
      "metadata": {
        "colab": {
          "base_uri": "https://localhost:8080/"
        },
        "id": "704VEPfbouuX",
        "outputId": "5ff9d3b6-9f95-4d3c-9571-2427d6ada2e4"
      },
      "outputs": [
        {
          "name": "stdout",
          "output_type": "stream",
          "text": [
            "Overwriting programa3.cpp\n"
          ]
        }
      ],
      "source": [
        "%%writefile programa3.cpp\n",
        "\n",
        "#include <iostream>\n",
        "#include <string>\n",
        "#include \"mivector.hpp\"\n",
        "\n",
        "using namespace std;\n",
        "\n",
        "class Registro{\n",
        "\n",
        "    int c[26];\n",
        "    string airline, tailNumber,origAirport, destAirport,cancReason;\n",
        "    string nombre;\n",
        "    friend class Vuelos;\n",
        "\n",
        "    public:\n",
        "\n",
        "    Registro(){}\n",
        "    ~Registro(){}\n",
        "\n",
        "    string toString(){\n",
        "\n",
        "        string _string;\n",
        "\n",
        "        for(size_t i=0;i<26;++i){\n",
        "\n",
        "            _string+=to_string(c[i])+\" \";\n",
        "        }\n",
        "          \n",
        "      _string +=airline+\" \"+tailNumber+\" \"+origAirport+\" \"+destAirport+\" \"+cancReason;\n",
        "      return _string;\n",
        "    }\n",
        "};\n",
        "\n",
        "class Vuelos{    \n",
        "\n",
        "    MiVector<Registro> registros;\n",
        "\n",
        "    public:\n",
        "\n",
        "    Vuelos(){}\n",
        "    ~Vuelos(){}\n",
        "\n",
        "\n",
        "\n",
        "  void insertar(){\n",
        "\n",
        "    char airline[10], tailNumber[10],origAirport[10], destAirport[10],cancReason[10];\n",
        "    Registro r;\n",
        "    FILE* stream=fopen(\"flights_.csv\",\"r\");\n",
        "    int c=0;\n",
        "    unsigned t0, t1;\n",
        "\n",
        "    t0=clock();\n",
        "\n",
        "    while(fscanf(stream,\"%d,%d,%d,%d,%[^,],%d,%[^,],%[^,],%[^,],%d,%d,%d,%d,%d,%d,%d,%d,%d,%d,%d,%d,%d,%d,%d,%d,%[^,],%d,%d,%d,%d,%d\",\n",
        "\n",
        "                 &r.c[0],&r.c[1],&r.c[2],&r.c[3],airline,&r.c[4],\n",
        "\n",
        "                 tailNumber,origAirport, destAirport,&r.c[5],&r.c[6],\n",
        "\n",
        "                 &r.c[7],&r.c[8],&r.c[9],&r.c[10],&r.c[11],&r.c[12],&r.c[13],\n",
        "\n",
        "                 &r.c[14],&r.c[15],&r.c[16],&r.c[17],&r.c[18],&r.c[19],&r.c[20],\n",
        "\n",
        "                 cancReason,&r.c[21],&r.c[22],&r.c[23],&r.c[24],&r.c[25])!=EOF){\n",
        "\n",
        "        r.airline=airline;\n",
        "        ++c;\n",
        "        registros.push_back(r);\n",
        "        }\n",
        "\n",
        "    t1=clock();\n",
        "\n",
        "    double tiempo= (double(t1-t0)/CLOCKS_PER_SEC);\n",
        "\n",
        "    cout<<\"Cantidad de registros de lectura: \"<<c<<endl;\n",
        "    cout<<\"tiempo utilizado es: \"<<tiempo<<endl;\n",
        "    cout<<\"Cantidad de registros de escritura: \"<<registros.size();  \n",
        "  }\n",
        "\n",
        "  void imprimir(long i){  cout<<registros[i].toString()<<endl; }\n",
        "\n",
        "  void ordenar1(){ \n",
        "      \n",
        "      registros.mergesort([](Registro a, Registro b){return a.c[0]<b.c[0];}); \n",
        "  }\n",
        "\n",
        "  ///////\n",
        "  /*void ordenar2(){ \n",
        "      \n",
        "      registros.quic_ksort([this](int a) {return registros[a].c[4];} ); \n",
        "  }*/\n",
        "\n",
        "  void ordenar3(){ \n",
        "      \n",
        "      registros.quic_ksort2([this](int a) {return registros[a].c[4];} ); \n",
        "  }\n",
        "\n",
        "};\n",
        "\n",
        "\n",
        "\n",
        "int main(){    \n",
        "\n",
        "    Vuelos vuelos;\n",
        "    vuelos.insertar();\n",
        "\n",
        "\n",
        "cout<<\"Impresion sin ordenar: \"<<endl<<endl;\n",
        "    for(size_t i=0;i<10;++i){\n",
        "\n",
        "      vuelos.imprimir(i);}\n",
        "\n",
        "/*cout<<\"Ordenamiento por merge sort: \"<<endl<<endl;\n",
        "    vuelos.ordenar1();\n",
        "    for(size_t i=0;i<5;++i){\n",
        "\n",
        "      vuelos.imprimir(i);}*/\n",
        "\n",
        "cout<<endl<<endl;\n",
        "cout<<\"Ordenamiento por quick sort: \"<<endl<<endl;\n",
        "    vuelos.ordenar3();\n",
        "    for(size_t i=0;i<5;++i){\n",
        "\n",
        "      vuelos.imprimir(i);}\n",
        "}"
      ]
    },
    {
      "cell_type": "code",
      "execution_count": null,
      "metadata": {
        "colab": {
          "base_uri": "https://localhost:8080/"
        },
        "id": "DU6Jq-p6NNFw",
        "outputId": "f0514923-904d-45b3-e132-27e9db01cddd"
      },
      "outputs": [
        {
          "output_type": "stream",
          "name": "stdout",
          "text": [
            "\u001b[01m\u001b[Kg++:\u001b[m\u001b[K \u001b[01;31m\u001b[Kerror: \u001b[m\u001b[Kprograma3.cpp: No such file or directory\n",
            "\u001b[01m\u001b[Kg++:\u001b[m\u001b[K \u001b[01;31m\u001b[Kfatal error: \u001b[m\u001b[Kno input files\n",
            "compilation terminated.\n"
          ]
        }
      ],
      "source": [
        "!g++ programa3.cpp && ./a.out\n"
      ]
    }
  ],
  "metadata": {
    "colab": {
      "provenance": [],
      "include_colab_link": true
    },
    "kernelspec": {
      "display_name": "Python 3",
      "name": "python3"
    },
    "language_info": {
      "name": "python"
    }
  },
  "nbformat": 4,
  "nbformat_minor": 0
}